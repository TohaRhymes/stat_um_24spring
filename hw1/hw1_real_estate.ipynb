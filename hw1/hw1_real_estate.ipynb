{
 "cells": [
  {
   "cell_type": "code",
   "execution_count": 1,
   "id": "d672a4b8",
   "metadata": {},
   "outputs": [],
   "source": [
    "import pandas as pd\n",
    "from sklearn.model_selection import train_test_split\n",
    "from sklearn.linear_model import LinearRegression\n",
    "from sklearn.metrics import r2_score\n",
    "import numpy as np\n",
    "\n",
    "import matplotlib.pyplot as plt\n",
    "import seaborn as sns\n",
    "\n",
    "\n",
    "n_noise_vars_list = [0, 1, 5, 10, 50, 100, 200]\n",
    "n_iterations=500\n",
    "\n",
    "import warnings\n",
    "warnings.filterwarnings(\"ignore\")"
   ]
  },
  {
   "cell_type": "code",
   "execution_count": 2,
   "id": "023d6888",
   "metadata": {},
   "outputs": [
    {
     "data": {
      "text/html": [
       "<div>\n",
       "<style scoped>\n",
       "    .dataframe tbody tr th:only-of-type {\n",
       "        vertical-align: middle;\n",
       "    }\n",
       "\n",
       "    .dataframe tbody tr th {\n",
       "        vertical-align: top;\n",
       "    }\n",
       "\n",
       "    .dataframe thead th {\n",
       "        text-align: right;\n",
       "    }\n",
       "</style>\n",
       "<table border=\"1\" class=\"dataframe\">\n",
       "  <thead>\n",
       "    <tr style=\"text-align: right;\">\n",
       "      <th></th>\n",
       "      <th>No</th>\n",
       "      <th>X1 transaction date</th>\n",
       "      <th>X2 house age</th>\n",
       "      <th>X3 distance to the nearest MRT station</th>\n",
       "      <th>X4 number of convenience stores</th>\n",
       "      <th>X5 latitude</th>\n",
       "      <th>X6 longitude</th>\n",
       "      <th>Y house price of unit area</th>\n",
       "    </tr>\n",
       "  </thead>\n",
       "  <tbody>\n",
       "    <tr>\n",
       "      <th>0</th>\n",
       "      <td>1</td>\n",
       "      <td>2012.917</td>\n",
       "      <td>32.0</td>\n",
       "      <td>84.87882</td>\n",
       "      <td>10</td>\n",
       "      <td>24.98298</td>\n",
       "      <td>121.54024</td>\n",
       "      <td>37.9</td>\n",
       "    </tr>\n",
       "    <tr>\n",
       "      <th>1</th>\n",
       "      <td>2</td>\n",
       "      <td>2012.917</td>\n",
       "      <td>19.5</td>\n",
       "      <td>306.59470</td>\n",
       "      <td>9</td>\n",
       "      <td>24.98034</td>\n",
       "      <td>121.53951</td>\n",
       "      <td>42.2</td>\n",
       "    </tr>\n",
       "    <tr>\n",
       "      <th>2</th>\n",
       "      <td>3</td>\n",
       "      <td>2013.583</td>\n",
       "      <td>13.3</td>\n",
       "      <td>561.98450</td>\n",
       "      <td>5</td>\n",
       "      <td>24.98746</td>\n",
       "      <td>121.54391</td>\n",
       "      <td>47.3</td>\n",
       "    </tr>\n",
       "    <tr>\n",
       "      <th>3</th>\n",
       "      <td>4</td>\n",
       "      <td>2013.500</td>\n",
       "      <td>13.3</td>\n",
       "      <td>561.98450</td>\n",
       "      <td>5</td>\n",
       "      <td>24.98746</td>\n",
       "      <td>121.54391</td>\n",
       "      <td>54.8</td>\n",
       "    </tr>\n",
       "    <tr>\n",
       "      <th>4</th>\n",
       "      <td>5</td>\n",
       "      <td>2012.833</td>\n",
       "      <td>5.0</td>\n",
       "      <td>390.56840</td>\n",
       "      <td>5</td>\n",
       "      <td>24.97937</td>\n",
       "      <td>121.54245</td>\n",
       "      <td>43.1</td>\n",
       "    </tr>\n",
       "  </tbody>\n",
       "</table>\n",
       "</div>"
      ],
      "text/plain": [
       "   No  X1 transaction date  X2 house age  \\\n",
       "0   1             2012.917          32.0   \n",
       "1   2             2012.917          19.5   \n",
       "2   3             2013.583          13.3   \n",
       "3   4             2013.500          13.3   \n",
       "4   5             2012.833           5.0   \n",
       "\n",
       "   X3 distance to the nearest MRT station  X4 number of convenience stores  \\\n",
       "0                                84.87882                               10   \n",
       "1                               306.59470                                9   \n",
       "2                               561.98450                                5   \n",
       "3                               561.98450                                5   \n",
       "4                               390.56840                                5   \n",
       "\n",
       "   X5 latitude  X6 longitude  Y house price of unit area  \n",
       "0     24.98298     121.54024                        37.9  \n",
       "1     24.98034     121.53951                        42.2  \n",
       "2     24.98746     121.54391                        47.3  \n",
       "3     24.98746     121.54391                        54.8  \n",
       "4     24.97937     121.54245                        43.1  "
      ]
     },
     "execution_count": 2,
     "metadata": {},
     "output_type": "execute_result"
    }
   ],
   "source": [
    "data = pd.read_csv('real_estate.csv')\n",
    "X = data.drop(['No', 'Y house price of unit area'], axis=1)\n",
    "y = data['Y house price of unit area']\n",
    "data.head()"
   ]
  },
  {
   "cell_type": "code",
   "execution_count": 3,
   "id": "f7ae01ba",
   "metadata": {},
   "outputs": [
    {
     "data": {
      "text/plain": [
       "(414, 8)"
      ]
     },
     "execution_count": 3,
     "metadata": {},
     "output_type": "execute_result"
    }
   ],
   "source": [
    "data.shape"
   ]
  },
  {
   "cell_type": "code",
   "execution_count": 4,
   "id": "796d2d4c",
   "metadata": {},
   "outputs": [],
   "source": [
    "def add_noise_and_rebuild_model(X, y, n_noise_vars):\n",
    "    \"\"\"\n",
    "    Adds n_noise_vars random noise variables to X, rebuilds the linear regression model,\n",
    "    and calculates R^2 and adjusted R^2.\n",
    "    \"\"\"\n",
    "    # Add noise variables\n",
    "    for i in range(n_noise_vars):\n",
    "        X[f'noise_{i}'] = np.random.rand(X.shape[0])\n",
    "    \n",
    "    y_pred_with_noise = LinearRegression().fit(X, y).predict(X)\n",
    "    \n",
    "    # Calculate R^2 and adjusted R^2\n",
    "    r2_with_noise = r2_score(y, y_pred_with_noise)\n",
    "    n_with_noise = X.shape[0]  # Number of observations\n",
    "    p_with_noise = X.shape[1]  # Number of features including noise\n",
    "    adjusted_r2_with_noise = 1 - ((1 - r2_with_noise) * (n_with_noise - 1) / (n_with_noise - p_with_noise - 1))\n",
    "    \n",
    "    return r2_with_noise, adjusted_r2_with_noise\n",
    "\n",
    "def monte_carlo_simulation(X, y, n_noise_vars, n_iterations=10):\n",
    "    \"\"\"\n",
    "    Performs a Monte Carlo simulation by adding n_noise_vars random noise variables to X,\n",
    "    rebuilding the linear regression model n_iterations times, and calculating the mean\n",
    "    R^2 and mean adjusted R^2.\n",
    "    \"\"\"\n",
    "    r2_values = []\n",
    "    adjusted_r2_values = []\n",
    "    \n",
    "    for _ in range(n_iterations):\n",
    "        # Randomly add noise and rebuild the model\n",
    "        X_modified = X.copy()  # Work on a copy to avoid modifying the original\n",
    "        r2, adjusted_r2 = add_noise_and_rebuild_model(X_modified, y, n_noise_vars)\n",
    "        r2_values.append(r2)\n",
    "        adjusted_r2_values.append(adjusted_r2)\n",
    "    \n",
    "\n",
    "    \n",
    "    return r2_values, adjusted_r2_values\n",
    "\n",
    "def melt_data(data_numpy, x_name, y_name, coltype):\n",
    "    df_long = pd.DataFrame(data_numpy).T.melt(var_name=x_name, value_name=y_name)\n",
    "    df_long[x_name] = df_long[x_name].astype(int) \n",
    "    df_long['coltype'] = coltype\n",
    "    return df_long\n",
    "\n",
    "def draw_2d(data_numpy, data_numpy2, x_name, y_name, xticks):\n",
    "    df_long1 = melt_data(data_numpy, x_name, y_name, y_name)\n",
    "    df_long2 = melt_data(data_numpy2, x_name, y_name, y_name + \" adjusted\") \n",
    "\n",
    "    df_long = pd.concat([df_long1, df_long2])\n",
    "\n",
    "    plt.figure(figsize=(10, 4))\n",
    "\n",
    "    # Creating the boxplots\n",
    "    g = sns.boxplot(x=x_name, y=y_name, data=df_long, hue='coltype', palette='Set2')\n",
    "\n",
    "    # Adding the line through means\n",
    "    means1 = df_long1.groupby(x_name)[y_name].mean().reset_index()\n",
    "    means2 = df_long2.groupby(x_name)[y_name].mean().reset_index()\n",
    "    sns.lineplot(x=x_name, y=y_name, data=means1, color=sns.color_palette('Set2')[0], marker='o', linestyle='-', lw=2)\n",
    "    sns.lineplot(x=x_name, y=y_name, data=means2, color=sns.color_palette('Set2')[1], marker='o', linestyle='-', lw=2)\n",
    "\n",
    "    # Finalizing the plot\n",
    "    plt.title(f'Distribution of {y_name} for different `{x_name}`.')\n",
    "    g.set_xticklabels(xticks)\n",
    "    plt.xlabel(x_name)\n",
    "    plt.ylabel(y_name)\n",
    "    plt.grid(True)\n",
    "    plt.show()"
   ]
  },
  {
   "cell_type": "code",
   "execution_count": 5,
   "id": "f6084c33",
   "metadata": {},
   "outputs": [],
   "source": [
    "# Initialize results list for the Monte Carlo simulation\n",
    "monte_carlo_r2 = []\n",
    "monte_carlo_adjr2 = []\n",
    "\n",
    "# Perform the simulation for each specified number of noise variables\n",
    "for n_noise_vars in n_noise_vars_list:\n",
    "    r2, adjusted_r2 = monte_carlo_simulation(X, y, n_noise_vars, n_iterations)\n",
    "    monte_carlo_r2.append(r2)\n",
    "    monte_carlo_adjr2.append(adjusted_r2)"
   ]
  },
  {
   "cell_type": "code",
   "execution_count": 6,
   "id": "c9a0f421",
   "metadata": {},
   "outputs": [
    {
     "data": {
      "image/png": "[encoded data removed]",
      "text/plain": [
       "<Figure size 1000x400 with 1 Axes>"
      ]
     },
     "metadata": {},
     "output_type": "display_data"
    }
   ],
   "source": [
    "draw_2d(monte_carlo_r2, monte_carlo_adjr2, 'Amount of noise variables', 'R2', n_noise_vars_list)"
   ]
  },
  {
   "cell_type": "code",
   "execution_count": null,
   "id": "70001a38",
   "metadata": {},
   "outputs": [],
   "source": []
  }
 ],
 "metadata": {
  "kernelspec": {
   "display_name": "Python 3 (ipykernel)",
   "language": "python",
   "name": "python3"
  },
  "language_info": {
   "codemirror_mode": {
    "name": "ipython",
    "version": 3
   },
   "file_extension": ".py",
   "mimetype": "text/x-python",
   "name": "python",
   "nbconvert_exporter": "python",
   "pygments_lexer": "ipython3",
   "version": "3.11.5"
  }
 },
 "nbformat": 4,
 "nbformat_minor": 5
}
