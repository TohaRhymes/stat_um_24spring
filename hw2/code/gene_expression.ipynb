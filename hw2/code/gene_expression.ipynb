{
 "cells": [
  {
   "cell_type": "markdown",
   "id": "1954f7eb",
   "metadata": {},
   "source": [
    "## Dataset and methodology description\n",
    "\n",
    "The dataset focuses on gene expression levels from 7129 genes in 72 patients diagnosed with acute myeloid leukemia (AML) and acute lymphoblastic leukemia (ALL), derived from bone marrow and peripheral blood samples. This data comes from a study by Golub et al. in 1999, illustrating the potential of gene expression monitoring via DNA microarray for cancer classification. The dataset includes initial and independent datasets with 38 and 34 samples, respectively, aiming to classify AML and ALL patients.\n",
    "\n",
    "\n",
    "The dataset underwent a preprocessing including merging train and test (since we do not need to test something here), check for null values. Last but not least, recognizing the importance of normalization for the performance of statistical tests (as many machine learning models), we scaled the data as an additional improvement step to ensure optimal analysis conditions.\n",
    "\n",
    "For the analysis, a straightforward but illustrative methodology is adopted. Initially, t-tests are used to identify key genes that significantly contribute to distinguishing between AML and ALL. This step is crucial because it helps in pinpointing specific genes relevant for classification and potential targeted treatments. Additionally, we will compare the original p-values obtained from the t-tests with those corrected for false discovery rate (FDR) to account for multiple testing issues and ensure the reliability of our findings in identifying significant genes. This comparison is essential for refining the selection of gene features that are truly significant in differentiating between AML and ALL."
   ]
  },
  {
   "cell_type": "markdown",
   "id": "4a0d3891",
   "metadata": {
    "papermill": {
     "duration": 0.022302,
     "end_time": "2024-03-20T07:14:22.874355",
     "exception": false,
     "start_time": "2024-03-20T07:14:22.852053",
     "status": "completed"
    },
    "tags": []
   },
   "source": [
    "## Data preprocessing"
   ]
  },
  {
   "cell_type": "markdown",
   "id": "5cfdc2a4",
   "metadata": {
    "papermill": {
     "duration": 0.02328,
     "end_time": "2024-03-20T07:14:22.920968",
     "exception": false,
     "start_time": "2024-03-20T07:14:22.897688",
     "status": "completed"
    },
    "tags": []
   },
   "source": [
    "### Load all the required libraries"
   ]
  },
  {
   "cell_type": "code",
   "execution_count": 10,
   "id": "71566278",
   "metadata": {
    "execution": {
     "iopub.execute_input": "2024-03-20T07:14:22.970751Z",
     "iopub.status.busy": "2024-03-20T07:14:22.969997Z",
     "iopub.status.idle": "2024-03-20T07:14:26.763765Z",
     "shell.execute_reply": "2024-03-20T07:14:26.762520Z"
    },
    "papermill": {
     "duration": 3.822228,
     "end_time": "2024-03-20T07:14:26.766364",
     "exception": false,
     "start_time": "2024-03-20T07:14:22.944136",
     "status": "completed"
    },
    "tags": []
   },
   "outputs": [],
   "source": [
    "import pandas as pd\n",
    "import numpy as np\n",
    "\n",
    "from scipy.stats import ttest_ind\n",
    "from statsmodels.stats.multitest import fdrcorrection\n",
    "\n",
    "import matplotlib.pyplot as plt\n",
    "import seaborn as sns\n",
    "\n",
    "from collections import Counter\n",
    "\n",
    "from sklearn.preprocessing import StandardScaler\n",
    "\n",
    "\n",
    "\n",
    "def save_pyplot_figure(fig, filename):\n",
    "    \"\"\"\n",
    "    Saves a Matplotlib figure to a file.\n",
    "    \"\"\"\n",
    "    # Save the figure using the provided filename\n",
    "    fig.savefig(filename)\n",
    "    print(f\"Figure saved as {filename}\")"
   ]
  },
  {
   "cell_type": "markdown",
   "id": "e55bb11c",
   "metadata": {
    "papermill": {
     "duration": 0.02433,
     "end_time": "2024-03-20T07:14:26.814926",
     "exception": false,
     "start_time": "2024-03-20T07:14:26.790596",
     "status": "completed"
    },
    "tags": []
   },
   "source": [
    "### Load data"
   ]
  },
  {
   "cell_type": "code",
   "execution_count": 2,
   "id": "454dc430",
   "metadata": {
    "execution": {
     "iopub.execute_input": "2024-03-20T07:14:26.867096Z",
     "iopub.status.busy": "2024-03-20T07:14:26.865477Z",
     "iopub.status.idle": "2024-03-20T07:14:27.125250Z",
     "shell.execute_reply": "2024-03-20T07:14:27.123689Z"
    },
    "papermill": {
     "duration": 0.289432,
     "end_time": "2024-03-20T07:14:27.128549",
     "exception": false,
     "start_time": "2024-03-20T07:14:26.839117",
     "status": "completed"
    },
    "tags": []
   },
   "outputs": [
    {
     "data": {
      "text/html": [
       "<div>\n",
       "<style scoped>\n",
       "    .dataframe tbody tr th:only-of-type {\n",
       "        vertical-align: middle;\n",
       "    }\n",
       "\n",
       "    .dataframe tbody tr th {\n",
       "        vertical-align: top;\n",
       "    }\n",
       "\n",
       "    .dataframe thead th {\n",
       "        text-align: right;\n",
       "    }\n",
       "</style>\n",
       "<table border=\"1\" class=\"dataframe\">\n",
       "  <thead>\n",
       "    <tr style=\"text-align: right;\">\n",
       "      <th></th>\n",
       "      <th>Gene Description</th>\n",
       "      <th>Gene Accession Number</th>\n",
       "      <th>1</th>\n",
       "      <th>call</th>\n",
       "      <th>2</th>\n",
       "      <th>call.1</th>\n",
       "      <th>3</th>\n",
       "      <th>call.2</th>\n",
       "      <th>4</th>\n",
       "      <th>call.3</th>\n",
       "      <th>...</th>\n",
       "      <th>29</th>\n",
       "      <th>call.33</th>\n",
       "      <th>30</th>\n",
       "      <th>call.34</th>\n",
       "      <th>31</th>\n",
       "      <th>call.35</th>\n",
       "      <th>32</th>\n",
       "      <th>call.36</th>\n",
       "      <th>33</th>\n",
       "      <th>call.37</th>\n",
       "    </tr>\n",
       "  </thead>\n",
       "  <tbody>\n",
       "    <tr>\n",
       "      <th>0</th>\n",
       "      <td>AFFX-BioB-5_at (endogenous control)</td>\n",
       "      <td>AFFX-BioB-5_at</td>\n",
       "      <td>-214</td>\n",
       "      <td>A</td>\n",
       "      <td>-139</td>\n",
       "      <td>A</td>\n",
       "      <td>-76</td>\n",
       "      <td>A</td>\n",
       "      <td>-135</td>\n",
       "      <td>A</td>\n",
       "      <td>...</td>\n",
       "      <td>15</td>\n",
       "      <td>A</td>\n",
       "      <td>-318</td>\n",
       "      <td>A</td>\n",
       "      <td>-32</td>\n",
       "      <td>A</td>\n",
       "      <td>-124</td>\n",
       "      <td>A</td>\n",
       "      <td>-135</td>\n",
       "      <td>A</td>\n",
       "    </tr>\n",
       "    <tr>\n",
       "      <th>1</th>\n",
       "      <td>AFFX-BioB-M_at (endogenous control)</td>\n",
       "      <td>AFFX-BioB-M_at</td>\n",
       "      <td>-153</td>\n",
       "      <td>A</td>\n",
       "      <td>-73</td>\n",
       "      <td>A</td>\n",
       "      <td>-49</td>\n",
       "      <td>A</td>\n",
       "      <td>-114</td>\n",
       "      <td>A</td>\n",
       "      <td>...</td>\n",
       "      <td>-114</td>\n",
       "      <td>A</td>\n",
       "      <td>-192</td>\n",
       "      <td>A</td>\n",
       "      <td>-49</td>\n",
       "      <td>A</td>\n",
       "      <td>-79</td>\n",
       "      <td>A</td>\n",
       "      <td>-186</td>\n",
       "      <td>A</td>\n",
       "    </tr>\n",
       "    <tr>\n",
       "      <th>2</th>\n",
       "      <td>AFFX-BioB-3_at (endogenous control)</td>\n",
       "      <td>AFFX-BioB-3_at</td>\n",
       "      <td>-58</td>\n",
       "      <td>A</td>\n",
       "      <td>-1</td>\n",
       "      <td>A</td>\n",
       "      <td>-307</td>\n",
       "      <td>A</td>\n",
       "      <td>265</td>\n",
       "      <td>A</td>\n",
       "      <td>...</td>\n",
       "      <td>2</td>\n",
       "      <td>A</td>\n",
       "      <td>-95</td>\n",
       "      <td>A</td>\n",
       "      <td>49</td>\n",
       "      <td>A</td>\n",
       "      <td>-37</td>\n",
       "      <td>A</td>\n",
       "      <td>-70</td>\n",
       "      <td>A</td>\n",
       "    </tr>\n",
       "  </tbody>\n",
       "</table>\n",
       "<p>3 rows × 78 columns</p>\n",
       "</div>"
      ],
      "text/plain": [
       "                      Gene Description Gene Accession Number    1 call    2  \\\n",
       "0  AFFX-BioB-5_at (endogenous control)        AFFX-BioB-5_at -214    A -139   \n",
       "1  AFFX-BioB-M_at (endogenous control)        AFFX-BioB-M_at -153    A  -73   \n",
       "2  AFFX-BioB-3_at (endogenous control)        AFFX-BioB-3_at  -58    A   -1   \n",
       "\n",
       "  call.1    3 call.2    4 call.3  ...   29 call.33   30 call.34  31 call.35  \\\n",
       "0      A  -76      A -135      A  ...   15       A -318       A -32       A   \n",
       "1      A  -49      A -114      A  ... -114       A -192       A -49       A   \n",
       "2      A -307      A  265      A  ...    2       A  -95       A  49       A   \n",
       "\n",
       "    32 call.36   33 call.37  \n",
       "0 -124       A -135       A  \n",
       "1  -79       A -186       A  \n",
       "2  -37       A  -70       A  \n",
       "\n",
       "[3 rows x 78 columns]"
      ]
     },
     "metadata": {},
     "output_type": "display_data"
    },
    {
     "data": {
      "text/html": [
       "<div>\n",
       "<style scoped>\n",
       "    .dataframe tbody tr th:only-of-type {\n",
       "        vertical-align: middle;\n",
       "    }\n",
       "\n",
       "    .dataframe tbody tr th {\n",
       "        vertical-align: top;\n",
       "    }\n",
       "\n",
       "    .dataframe thead th {\n",
       "        text-align: right;\n",
       "    }\n",
       "</style>\n",
       "<table border=\"1\" class=\"dataframe\">\n",
       "  <thead>\n",
       "    <tr style=\"text-align: right;\">\n",
       "      <th></th>\n",
       "      <th>Gene Description</th>\n",
       "      <th>Gene Accession Number</th>\n",
       "      <th>39</th>\n",
       "      <th>call</th>\n",
       "      <th>40</th>\n",
       "      <th>call.1</th>\n",
       "      <th>42</th>\n",
       "      <th>call.2</th>\n",
       "      <th>47</th>\n",
       "      <th>call.3</th>\n",
       "      <th>...</th>\n",
       "      <th>65</th>\n",
       "      <th>call.29</th>\n",
       "      <th>66</th>\n",
       "      <th>call.30</th>\n",
       "      <th>63</th>\n",
       "      <th>call.31</th>\n",
       "      <th>64</th>\n",
       "      <th>call.32</th>\n",
       "      <th>62</th>\n",
       "      <th>call.33</th>\n",
       "    </tr>\n",
       "  </thead>\n",
       "  <tbody>\n",
       "    <tr>\n",
       "      <th>0</th>\n",
       "      <td>AFFX-BioB-5_at (endogenous control)</td>\n",
       "      <td>AFFX-BioB-5_at</td>\n",
       "      <td>-342</td>\n",
       "      <td>A</td>\n",
       "      <td>-87</td>\n",
       "      <td>A</td>\n",
       "      <td>22</td>\n",
       "      <td>A</td>\n",
       "      <td>-243</td>\n",
       "      <td>A</td>\n",
       "      <td>...</td>\n",
       "      <td>-62</td>\n",
       "      <td>A</td>\n",
       "      <td>-58</td>\n",
       "      <td>A</td>\n",
       "      <td>-161</td>\n",
       "      <td>A</td>\n",
       "      <td>-48</td>\n",
       "      <td>A</td>\n",
       "      <td>-176</td>\n",
       "      <td>A</td>\n",
       "    </tr>\n",
       "    <tr>\n",
       "      <th>1</th>\n",
       "      <td>AFFX-BioB-M_at (endogenous control)</td>\n",
       "      <td>AFFX-BioB-M_at</td>\n",
       "      <td>-200</td>\n",
       "      <td>A</td>\n",
       "      <td>-248</td>\n",
       "      <td>A</td>\n",
       "      <td>-153</td>\n",
       "      <td>A</td>\n",
       "      <td>-218</td>\n",
       "      <td>A</td>\n",
       "      <td>...</td>\n",
       "      <td>-198</td>\n",
       "      <td>A</td>\n",
       "      <td>-217</td>\n",
       "      <td>A</td>\n",
       "      <td>-215</td>\n",
       "      <td>A</td>\n",
       "      <td>-531</td>\n",
       "      <td>A</td>\n",
       "      <td>-284</td>\n",
       "      <td>A</td>\n",
       "    </tr>\n",
       "    <tr>\n",
       "      <th>2</th>\n",
       "      <td>AFFX-BioB-3_at (endogenous control)</td>\n",
       "      <td>AFFX-BioB-3_at</td>\n",
       "      <td>41</td>\n",
       "      <td>A</td>\n",
       "      <td>262</td>\n",
       "      <td>A</td>\n",
       "      <td>17</td>\n",
       "      <td>A</td>\n",
       "      <td>-163</td>\n",
       "      <td>A</td>\n",
       "      <td>...</td>\n",
       "      <td>-5</td>\n",
       "      <td>A</td>\n",
       "      <td>63</td>\n",
       "      <td>A</td>\n",
       "      <td>-46</td>\n",
       "      <td>A</td>\n",
       "      <td>-124</td>\n",
       "      <td>A</td>\n",
       "      <td>-81</td>\n",
       "      <td>A</td>\n",
       "    </tr>\n",
       "  </tbody>\n",
       "</table>\n",
       "<p>3 rows × 70 columns</p>\n",
       "</div>"
      ],
      "text/plain": [
       "                      Gene Description Gene Accession Number   39 call   40  \\\n",
       "0  AFFX-BioB-5_at (endogenous control)        AFFX-BioB-5_at -342    A  -87   \n",
       "1  AFFX-BioB-M_at (endogenous control)        AFFX-BioB-M_at -200    A -248   \n",
       "2  AFFX-BioB-3_at (endogenous control)        AFFX-BioB-3_at   41    A  262   \n",
       "\n",
       "  call.1   42 call.2   47 call.3  ...   65 call.29   66 call.30   63 call.31  \\\n",
       "0      A   22      A -243      A  ...  -62       A  -58       A -161       A   \n",
       "1      A -153      A -218      A  ... -198       A -217       A -215       A   \n",
       "2      A   17      A -163      A  ...   -5       A   63       A  -46       A   \n",
       "\n",
       "    64 call.32   62 call.33  \n",
       "0  -48       A -176       A  \n",
       "1 -531       A -284       A  \n",
       "2 -124       A  -81       A  \n",
       "\n",
       "[3 rows x 70 columns]"
      ]
     },
     "metadata": {},
     "output_type": "display_data"
    },
    {
     "data": {
      "text/html": [
       "<div>\n",
       "<style scoped>\n",
       "    .dataframe tbody tr th:only-of-type {\n",
       "        vertical-align: middle;\n",
       "    }\n",
       "\n",
       "    .dataframe tbody tr th {\n",
       "        vertical-align: top;\n",
       "    }\n",
       "\n",
       "    .dataframe thead th {\n",
       "        text-align: right;\n",
       "    }\n",
       "</style>\n",
       "<table border=\"1\" class=\"dataframe\">\n",
       "  <thead>\n",
       "    <tr style=\"text-align: right;\">\n",
       "      <th></th>\n",
       "      <th>patient</th>\n",
       "      <th>cancer</th>\n",
       "    </tr>\n",
       "  </thead>\n",
       "  <tbody>\n",
       "    <tr>\n",
       "      <th>0</th>\n",
       "      <td>1</td>\n",
       "      <td>ALL</td>\n",
       "    </tr>\n",
       "    <tr>\n",
       "      <th>1</th>\n",
       "      <td>2</td>\n",
       "      <td>ALL</td>\n",
       "    </tr>\n",
       "    <tr>\n",
       "      <th>2</th>\n",
       "      <td>3</td>\n",
       "      <td>ALL</td>\n",
       "    </tr>\n",
       "  </tbody>\n",
       "</table>\n",
       "</div>"
      ],
      "text/plain": [
       "   patient cancer\n",
       "0        1    ALL\n",
       "1        2    ALL\n",
       "2        3    ALL"
      ]
     },
     "metadata": {},
     "output_type": "display_data"
    },
    {
     "name": "stdout",
     "output_type": "stream",
     "text": [
      "(7129, 78)\n",
      "(7129, 70)\n",
      "(72, 2)\n"
     ]
    }
   ],
   "source": [
    "# Loading training dataset\n",
    "df_train = pd.read_csv('data/kaggle_GE_data/data_set_ALL_AML_train.csv')\n",
    "df_test = pd.read_csv('data/kaggle_GE_data/data_set_ALL_AML_independent.csv')\n",
    "labels = pd.read_csv('data/kaggle_GE_data/actual.csv')\n",
    "\n",
    "display(df_train.head(3))\n",
    "display(df_test.head(3))\n",
    "display(labels.head(3))\n",
    "\n",
    "print(df_train.shape)\n",
    "print(df_test.shape)\n",
    "print(labels.shape)"
   ]
  },
  {
   "cell_type": "markdown",
   "id": "fd111987",
   "metadata": {
    "papermill": {
     "duration": 0.086759,
     "end_time": "2024-03-20T07:14:27.287825",
     "exception": false,
     "start_time": "2024-03-20T07:14:27.201066",
     "status": "completed"
    },
    "tags": []
   },
   "source": [
    "### Cleaning data\n",
    "\n",
    "- Delete 'call' columns: we do not need them for the current experiment -- it is not counts of genes\n",
    "- Transpose the columns and rows: 7129 genes become features, and each patient - single row.\n",
    "- Clean and drop namings cols (it is not really matter for our purposes)\n",
    "- Convert data values to numeric."
   ]
  },
  {
   "cell_type": "code",
   "execution_count": 3,
   "id": "5665f237",
   "metadata": {
    "execution": {
     "iopub.execute_input": "2024-03-20T07:14:27.389602Z",
     "iopub.status.busy": "2024-03-20T07:14:27.389116Z",
     "iopub.status.idle": "2024-03-20T07:14:27.408507Z",
     "shell.execute_reply": "2024-03-20T07:14:27.407533Z"
    },
    "papermill": {
     "duration": 0.047199,
     "end_time": "2024-03-20T07:14:27.411014",
     "exception": false,
     "start_time": "2024-03-20T07:14:27.363815",
     "status": "completed"
    },
    "tags": []
   },
   "outputs": [],
   "source": [
    "# Remove call columns\n",
    "columns_to_remove_train = [col for col in df_train if 'call' in col]\n",
    "train = df_train.drop(columns_to_remove_train, axis=1)\n",
    "columns_to_remove_test = [col for col in df_test if 'call' in col]\n",
    "test = df_test.drop(columns_to_remove_test, axis=1)\n",
    "\n",
    "# Transpose\n",
    "X_train = train.T\n",
    "X_test = test.T\n",
    "\n",
    "# Cleaning stuff\n",
    "X_train.columns = X_train.iloc[1] \n",
    "X_test.columns = X_test.iloc[1]\n",
    "X_train = X_train.iloc[2:].reset_index(drop=True)\n",
    "X_test = X_test.iloc[2:].reset_index(drop=True)\n",
    "\n",
    "# To numeric\n",
    "X_train = X_train.apply(pd.to_numeric, errors='coerce')\n",
    "X_test = X_test.apply(pd.to_numeric, errors='coerce')\n",
    "\n",
    "\n"
   ]
  },
  {
   "cell_type": "markdown",
   "id": "8a7ca038",
   "metadata": {
    "papermill": {
     "duration": 0.022385,
     "end_time": "2024-03-20T07:14:30.085417",
     "exception": false,
     "start_time": "2024-03-20T07:14:30.063032",
     "status": "completed"
    },
    "tags": []
   },
   "source": [
    "### Concating data\n",
    "\n",
    "- merge training set, testing set, and labels\n",
    "- check for nulls (there is no nulls in our data)\n",
    "- Replace values in the 'cancer' column with 0 for 'ALL' and 1 for 'AML'"
   ]
  },
  {
   "cell_type": "code",
   "execution_count": 4,
   "id": "161c079d",
   "metadata": {
    "execution": {
     "iopub.execute_input": "2024-03-20T07:14:30.252924Z",
     "iopub.status.busy": "2024-03-20T07:14:30.252541Z",
     "iopub.status.idle": "2024-03-20T07:14:30.289489Z",
     "shell.execute_reply": "2024-03-20T07:14:30.288649Z"
    },
    "papermill": {
     "duration": 0.063714,
     "end_time": "2024-03-20T07:14:30.291546",
     "exception": false,
     "start_time": "2024-03-20T07:14:30.227832",
     "status": "completed"
    },
    "tags": []
   },
   "outputs": [
    {
     "name": "stdout",
     "output_type": "stream",
     "text": [
      "Columns with Null Values:\n",
      "0\n",
      "(72, 7131)\n"
     ]
    },
    {
     "data": {
      "text/html": [
       "<div>\n",
       "<style scoped>\n",
       "    .dataframe tbody tr th:only-of-type {\n",
       "        vertical-align: middle;\n",
       "    }\n",
       "\n",
       "    .dataframe tbody tr th {\n",
       "        vertical-align: top;\n",
       "    }\n",
       "\n",
       "    .dataframe thead th {\n",
       "        text-align: right;\n",
       "    }\n",
       "</style>\n",
       "<table border=\"1\" class=\"dataframe\">\n",
       "  <thead>\n",
       "    <tr style=\"text-align: right;\">\n",
       "      <th></th>\n",
       "      <th>AFFX-BioB-5_at</th>\n",
       "      <th>AFFX-BioB-M_at</th>\n",
       "      <th>AFFX-BioB-3_at</th>\n",
       "      <th>AFFX-BioC-5_at</th>\n",
       "      <th>AFFX-BioC-3_at</th>\n",
       "      <th>AFFX-BioDn-5_at</th>\n",
       "      <th>AFFX-BioDn-3_at</th>\n",
       "      <th>AFFX-CreX-5_at</th>\n",
       "      <th>AFFX-CreX-3_at</th>\n",
       "      <th>AFFX-BioB-5_st</th>\n",
       "      <th>...</th>\n",
       "      <th>U73738_at</th>\n",
       "      <th>X06956_at</th>\n",
       "      <th>X16699_at</th>\n",
       "      <th>X83863_at</th>\n",
       "      <th>Z17240_at</th>\n",
       "      <th>L49218_f_at</th>\n",
       "      <th>M71243_f_at</th>\n",
       "      <th>Z78285_f_at</th>\n",
       "      <th>patient</th>\n",
       "      <th>cancer</th>\n",
       "    </tr>\n",
       "  </thead>\n",
       "  <tbody>\n",
       "    <tr>\n",
       "      <th>0</th>\n",
       "      <td>-214</td>\n",
       "      <td>-153</td>\n",
       "      <td>-58</td>\n",
       "      <td>88</td>\n",
       "      <td>-295</td>\n",
       "      <td>-558</td>\n",
       "      <td>199</td>\n",
       "      <td>-176</td>\n",
       "      <td>252</td>\n",
       "      <td>206</td>\n",
       "      <td>...</td>\n",
       "      <td>-125</td>\n",
       "      <td>389</td>\n",
       "      <td>-37</td>\n",
       "      <td>793</td>\n",
       "      <td>329</td>\n",
       "      <td>36</td>\n",
       "      <td>191</td>\n",
       "      <td>-37</td>\n",
       "      <td>1</td>\n",
       "      <td>0</td>\n",
       "    </tr>\n",
       "    <tr>\n",
       "      <th>1</th>\n",
       "      <td>-139</td>\n",
       "      <td>-73</td>\n",
       "      <td>-1</td>\n",
       "      <td>283</td>\n",
       "      <td>-264</td>\n",
       "      <td>-400</td>\n",
       "      <td>-330</td>\n",
       "      <td>-168</td>\n",
       "      <td>101</td>\n",
       "      <td>74</td>\n",
       "      <td>...</td>\n",
       "      <td>-36</td>\n",
       "      <td>442</td>\n",
       "      <td>-17</td>\n",
       "      <td>782</td>\n",
       "      <td>295</td>\n",
       "      <td>11</td>\n",
       "      <td>76</td>\n",
       "      <td>-14</td>\n",
       "      <td>2</td>\n",
       "      <td>0</td>\n",
       "    </tr>\n",
       "    <tr>\n",
       "      <th>2</th>\n",
       "      <td>-76</td>\n",
       "      <td>-49</td>\n",
       "      <td>-307</td>\n",
       "      <td>309</td>\n",
       "      <td>-376</td>\n",
       "      <td>-650</td>\n",
       "      <td>33</td>\n",
       "      <td>-367</td>\n",
       "      <td>206</td>\n",
       "      <td>-215</td>\n",
       "      <td>...</td>\n",
       "      <td>33</td>\n",
       "      <td>168</td>\n",
       "      <td>52</td>\n",
       "      <td>1138</td>\n",
       "      <td>777</td>\n",
       "      <td>41</td>\n",
       "      <td>228</td>\n",
       "      <td>-41</td>\n",
       "      <td>3</td>\n",
       "      <td>0</td>\n",
       "    </tr>\n",
       "    <tr>\n",
       "      <th>3</th>\n",
       "      <td>-135</td>\n",
       "      <td>-114</td>\n",
       "      <td>265</td>\n",
       "      <td>12</td>\n",
       "      <td>-419</td>\n",
       "      <td>-585</td>\n",
       "      <td>158</td>\n",
       "      <td>-253</td>\n",
       "      <td>49</td>\n",
       "      <td>31</td>\n",
       "      <td>...</td>\n",
       "      <td>218</td>\n",
       "      <td>174</td>\n",
       "      <td>-110</td>\n",
       "      <td>627</td>\n",
       "      <td>170</td>\n",
       "      <td>-50</td>\n",
       "      <td>126</td>\n",
       "      <td>-91</td>\n",
       "      <td>4</td>\n",
       "      <td>0</td>\n",
       "    </tr>\n",
       "    <tr>\n",
       "      <th>4</th>\n",
       "      <td>-106</td>\n",
       "      <td>-125</td>\n",
       "      <td>-76</td>\n",
       "      <td>168</td>\n",
       "      <td>-230</td>\n",
       "      <td>-284</td>\n",
       "      <td>4</td>\n",
       "      <td>-122</td>\n",
       "      <td>70</td>\n",
       "      <td>252</td>\n",
       "      <td>...</td>\n",
       "      <td>57</td>\n",
       "      <td>504</td>\n",
       "      <td>-26</td>\n",
       "      <td>250</td>\n",
       "      <td>314</td>\n",
       "      <td>14</td>\n",
       "      <td>56</td>\n",
       "      <td>-25</td>\n",
       "      <td>5</td>\n",
       "      <td>0</td>\n",
       "    </tr>\n",
       "  </tbody>\n",
       "</table>\n",
       "<p>5 rows × 7131 columns</p>\n",
       "</div>"
      ],
      "text/plain": [
       "   AFFX-BioB-5_at  AFFX-BioB-M_at  AFFX-BioB-3_at  AFFX-BioC-5_at  \\\n",
       "0            -214            -153             -58              88   \n",
       "1            -139             -73              -1             283   \n",
       "2             -76             -49            -307             309   \n",
       "3            -135            -114             265              12   \n",
       "4            -106            -125             -76             168   \n",
       "\n",
       "   AFFX-BioC-3_at  AFFX-BioDn-5_at  AFFX-BioDn-3_at  AFFX-CreX-5_at  \\\n",
       "0            -295             -558              199            -176   \n",
       "1            -264             -400             -330            -168   \n",
       "2            -376             -650               33            -367   \n",
       "3            -419             -585              158            -253   \n",
       "4            -230             -284                4            -122   \n",
       "\n",
       "   AFFX-CreX-3_at  AFFX-BioB-5_st  ...  U73738_at  X06956_at  X16699_at  \\\n",
       "0             252             206  ...       -125        389        -37   \n",
       "1             101              74  ...        -36        442        -17   \n",
       "2             206            -215  ...         33        168         52   \n",
       "3              49              31  ...        218        174       -110   \n",
       "4              70             252  ...         57        504        -26   \n",
       "\n",
       "   X83863_at  Z17240_at  L49218_f_at  M71243_f_at  Z78285_f_at  patient  \\\n",
       "0        793        329           36          191          -37        1   \n",
       "1        782        295           11           76          -14        2   \n",
       "2       1138        777           41          228          -41        3   \n",
       "3        627        170          -50          126          -91        4   \n",
       "4        250        314           14           56          -25        5   \n",
       "\n",
       "   cancer  \n",
       "0       0  \n",
       "1       0  \n",
       "2       0  \n",
       "3       0  \n",
       "4       0  \n",
       "\n",
       "[5 rows x 7131 columns]"
      ]
     },
     "execution_count": 4,
     "metadata": {},
     "output_type": "execute_result"
    }
   ],
   "source": [
    "# Merge all dataset\n",
    "merged_X = pd.concat([X_train, X_test], ignore_index=True, axis=0)\n",
    "merged_XY = pd.concat([merged_X, labels], axis=1)\n",
    "\n",
    "# Check for nulls\n",
    "null_counts = merged_XY.isnull().sum().max()\n",
    "print('Columns with Null Values:')\n",
    "print(null_counts)\n",
    "\n",
    "# Replace values to 0/1\n",
    "cancer_mapping = {'ALL': 0, 'AML': 1}\n",
    "merged_XY['cancer'] = merged_XY['cancer'].map(cancer_mapping)\n",
    "\n",
    "print(merged_XY.shape)\n",
    "merged_XY.head()"
   ]
  },
  {
   "cell_type": "markdown",
   "id": "2a7c9b55",
   "metadata": {
    "papermill": {
     "duration": 0.025263,
     "end_time": "2024-03-20T07:14:30.650961",
     "exception": false,
     "start_time": "2024-03-20T07:14:30.625698",
     "status": "completed"
    },
    "tags": []
   },
   "source": [
    "### Additional improvings\n",
    "- t-tests (as many ML models) perform better with normalized data => scale the data"
   ]
  },
  {
   "cell_type": "code",
   "execution_count": 6,
   "id": "340c8d0d",
   "metadata": {
    "execution": {
     "iopub.execute_input": "2024-03-20T07:14:30.701668Z",
     "iopub.status.busy": "2024-03-20T07:14:30.700710Z",
     "iopub.status.idle": "2024-03-20T07:14:30.916358Z",
     "shell.execute_reply": "2024-03-20T07:14:30.915042Z"
    },
    "papermill": {
     "duration": 0.24353,
     "end_time": "2024-03-20T07:14:30.918933",
     "exception": false,
     "start_time": "2024-03-20T07:14:30.675403",
     "status": "completed"
    },
    "tags": []
   },
   "outputs": [
    {
     "name": "stdout",
     "output_type": "stream",
     "text": [
      "(47, 7129)\n",
      "(25, 7129)\n"
     ]
    }
   ],
   "source": [
    "# Exclude patient and cancer columns\n",
    "gene_columns = merged_XY.columns.drop([\"patient\", \"cancer\"])\n",
    "merged_X = merged_X[gene_columns]\n",
    "\n",
    "# Scaling __all expression data__\n",
    "normalized_merged_X = pd.DataFrame(\n",
    "    StandardScaler().fit(merged_X).transform(merged_X), columns=gene_columns\n",
    ")\n",
    "normalized_merged_X_ALL = normalized_merged_X[merged_XY[\"cancer\"] == 0]\n",
    "normalized_merged_X_AML = normalized_merged_X[merged_XY[\"cancer\"] == 1]\n",
    "\n",
    "print(normalized_merged_X_ALL.shape)\n",
    "print(normalized_merged_X_AML.shape)"
   ]
  },
  {
   "cell_type": "markdown",
   "id": "7c30592a",
   "metadata": {
    "papermill": {
     "duration": 0.024283,
     "end_time": "2024-03-20T07:14:31.086610",
     "exception": false,
     "start_time": "2024-03-20T07:14:31.062327",
     "status": "completed"
    },
    "tags": []
   },
   "source": [
    "## ***Statistical analysis of gene expression using t-test*** <a class=\"anchor\"  id=\"t_test\"></a>"
   ]
  },
  {
   "cell_type": "markdown",
   "id": "9f7c0a1a",
   "metadata": {
    "papermill": {
     "duration": 0.024981,
     "end_time": "2024-03-20T07:14:31.137185",
     "exception": false,
     "start_time": "2024-03-20T07:14:31.112204",
     "status": "completed"
    },
    "tags": []
   },
   "source": [
    "- Goal: identify genes that play a role in distinguishing between ALL and AML. \n",
    "- Therefore we need to select genes where there is a significant difference between the means of the two groups. \n",
    "- T-test is a commonly used statistical test for this purpose: the p-value indicates the statistical significance of the result. \n",
    "- Typically: threshold for p-values is 0.05. Motivation: a p-value lower than 0.05 means that the probability of obtaining such a difference between the two groups by chance is less than 5%, providing strong evidence to confirm the result."
   ]
  },
  {
   "cell_type": "markdown",
   "id": "52b3dd11",
   "metadata": {
    "papermill": {
     "duration": 0.023944,
     "end_time": "2024-03-20T07:14:31.303495",
     "exception": false,
     "start_time": "2024-03-20T07:14:31.279551",
     "status": "completed"
    },
    "tags": []
   },
   "source": [
    "### T-test"
   ]
  },
  {
   "cell_type": "code",
   "execution_count": 7,
   "id": "1290e041",
   "metadata": {
    "execution": {
     "iopub.execute_input": "2024-03-20T07:14:31.354040Z",
     "iopub.status.busy": "2024-03-20T07:14:31.353350Z",
     "iopub.status.idle": "2024-03-20T07:14:39.291449Z",
     "shell.execute_reply": "2024-03-20T07:14:39.290048Z"
    },
    "papermill": {
     "duration": 7.966877,
     "end_time": "2024-03-20T07:14:39.294470",
     "exception": false,
     "start_time": "2024-03-20T07:14:31.327593",
     "status": "completed"
    },
    "tags": []
   },
   "outputs": [],
   "source": [
    "# Perform t-test for each gene\n",
    "results = []\n",
    "for gene in normalized_merged_X_ALL.columns:\n",
    "    t_value, p_value = ttest_ind(normalized_merged_X_ALL[gene], normalized_merged_X_AML[gene], equal_var=False)\n",
    "    results.append((gene, t_value, p_value))\n",
    "\n",
    "# Convert results list to DataFrame\n",
    "df_results = pd.DataFrame(results, columns=['Gene Accession Number', 'T_Value', 'P_Value'])\n",
    "\n",
    "# Adjust p-values for multiple testing using False Discovery Rate (FDR) correction\n",
    "rejected, adjusted_p_values = fdrcorrection(df_results['P_Value'])"
   ]
  },
  {
   "cell_type": "markdown",
   "id": "a8a0f60b",
   "metadata": {},
   "source": [
    "Let's compare these pvals:"
   ]
  },
  {
   "cell_type": "code",
   "execution_count": 22,
   "id": "cbc59a24",
   "metadata": {},
   "outputs": [
    {
     "data": {
      "image/png": "[encoded data removed]",
      "text/plain": [
       "<Figure size 1400x400 with 1 Axes>"
      ]
     },
     "metadata": {},
     "output_type": "display_data"
    },
    {
     "name": "stdout",
     "output_type": "stream",
     "text": [
      "Figure saved as figures/F3.png\n"
     ]
    }
   ],
   "source": [
    "plt.rcParams.update({'font.size': 12})\n",
    "f = plt.figure(figsize=(14, 4))\n",
    "\n",
    "sns.set_style(\"white\")\n",
    "sns.set_palette(\"pastel\")\n",
    "\n",
    "sns.histplot(\n",
    "    df_results[\"P_Value\"].to_numpy(),\n",
    "    bins=[i/20 for i in range(0,21)],\n",
    "    label=\"T-test p-values distribution\",\n",
    "    color=\"#7dd3ff\",\n",
    "    edgecolor='black',\n",
    "    alpha=0.7,\n",
    ")\n",
    "sns.histplot(\n",
    "    adjusted_p_values,\n",
    "    bins=[i/20 for i in range(0,21)],\n",
    "    label=\"T-test adjusted p-values distribution\",\n",
    "    color=\"#c7a4ed\",\n",
    "    edgecolor='black',\n",
    "    alpha=0.7,\n",
    ")\n",
    "\n",
    "plt.xlabel(\"p-value\")\n",
    "plt.ylabel(\"Counts\")\n",
    "plt.title(\"P-values and adjusted p-values distribution from t-test an microarray dataset.\")\n",
    "plt.legend()  # Adding the legend\n",
    "plt.show()\n",
    "save_pyplot_figure(f, \"figures/F3.png\")"
   ]
  },
  {
   "cell_type": "code",
   "execution_count": 9,
   "id": "3e895ee6",
   "metadata": {},
   "outputs": [
    {
     "name": "stdout",
     "output_type": "stream",
     "text": [
      "Total amount of genes: 7129\n",
      "Significant with p-value cut-off threshold 0.05: 1144\n",
      "Significant with adjusted p-value cut-off threshold 0.05: 34\n"
     ]
    }
   ],
   "source": [
    "print(f'Total amount of genes: {len(df_results)}')\n",
    "print(f'Significant with p-value cut-off threshold 0.05: {sum(df_results.P_Value<0.05)}')\n",
    "print(f'Significant with adjusted p-value cut-off threshold 0.05: {sum(adjusted_p_values<0.05)}')"
   ]
  },
  {
   "cell_type": "markdown",
   "id": "33d10650",
   "metadata": {
    "papermill": {
     "duration": 0.036864,
     "end_time": "2024-03-20T07:14:48.387051",
     "exception": false,
     "start_time": "2024-03-20T07:14:48.350187",
     "status": "completed"
    },
    "tags": []
   },
   "source": [
    "## Reference\n",
    "Golub, T. R., Slonim, D. K., Tamayo, P., Huard, C., Gaasenbeek, M., Mesirov, J. P., Coller, H., Loh, M. L., Downing, J. R., Caligiuri, M. A., Bloomfield, C. D., & Lander, E. S. (1999). Molecular classification of cancer: Class Discovery and class prediction by Gene Expression Monitoring. Science, 286(5439), 531–537. https://doi.org/10.1126/science.286.5439.531\n",
    "\n",
    "Crawford, C. (2017, August 8). Gene expression dataset (golub et al..). Kaggle. https://www.kaggle.com/datasets/crawford/gene-expression/code?datasetId=1868&sortBy=voteCount"
   ]
  },
  {
   "cell_type": "code",
   "execution_count": null,
   "id": "5156e741",
   "metadata": {},
   "outputs": [],
   "source": []
  }
 ],
 "metadata": {
  "kaggle": {
   "accelerator": "none",
   "dataSources": [
    {
     "datasetId": 1868,
     "sourceId": 3249,
     "sourceType": "datasetVersion"
    }
   ],
   "dockerImageVersionId": 30646,
   "isGpuEnabled": false,
   "isInternetEnabled": false,
   "language": "python",
   "sourceType": "notebook"
  },
  "kernelspec": {
   "display_name": "Python 3 (ipykernel)",
   "language": "python",
   "name": "python3"
  },
  "language_info": {
   "codemirror_mode": {
    "name": "ipython",
    "version": 3
   },
   "file_extension": ".py",
   "mimetype": "text/x-python",
   "name": "python",
   "nbconvert_exporter": "python",
   "pygments_lexer": "ipython3",
   "version": "3.11.5"
  },
  "papermill": {
   "default_parameters": {},
   "duration": 30.115431,
   "end_time": "2024-03-20T07:14:49.346467",
   "environment_variables": {},
   "exception": null,
   "input_path": "__notebook__.ipynb",
   "output_path": "__notebook__.ipynb",
   "parameters": {},
   "start_time": "2024-03-20T07:14:19.231036",
   "version": "2.5.0"
  }
 },
 "nbformat": 4,
 "nbformat_minor": 5
}
